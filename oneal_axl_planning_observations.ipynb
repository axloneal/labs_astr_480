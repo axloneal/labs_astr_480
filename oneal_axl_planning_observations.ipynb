{
 "cells": [
  {
   "cell_type": "markdown",
   "metadata": {},
   "source": [
    "## O'Neal, Axl - Lab 1: Planning Observations"
   ]
  },
  {
   "cell_type": "code",
   "execution_count": 2,
   "metadata": {},
   "outputs": [],
   "source": [
    "import numpy as np\n",
    "import matplotlib.pyplot as plt\n",
    "import os\n",
    "import pytz\n",
    "from astropy import units as u\n",
    "from astropy.time import Time\n",
    "from astropy.coordinates import SkyCoord, EarthLocation, AltAz\n",
    "from astropy.table import QTable\n",
    "from astroplan import Observer, FixedTarget\n",
    "from astroplan import time_grid_from_range\n",
    "from astroplan.plots import plot_sky, plot_airmass\n",
    "from astroplan import download_IERS_A\n",
    "from astroplan import moon_illumination\n",
    "from astroplan import AtNightConstraint, MoonSeparationConstraint\n",
    "from astroplan import AltitudeConstraint, AirmassConstraint\n",
    "from astroplan import observability_table\n",
    "download_IERS_A\n",
    "\n",
    "import warnings\n",
    "warnings.filterwarnings('ignore', category=Warning)"
   ]
  },
  {
   "cell_type": "markdown",
   "metadata": {},
   "source": [
    "From Open Supernova Catalog I downloaded a csv of supernovae that includes Name, RA, and DEC"
   ]
  },
  {
   "cell_type": "code",
   "execution_count": 14,
   "metadata": {},
   "outputs": [],
   "source": [
    "## Initialize list of supernovae\n",
    "super_table = QTable.read('./supernovae.csv', format='ascii.csv')\n",
    "\n",
    "## Trim RA column into usable format\n",
    "for idx, val in enumerate(super_table['RA']):\n",
    "    ra = super_table['RA'][idx].split(',',1)[0]\n",
    "    ra_list = ra.split(':')\n",
    "    ## RA to format 00h00m00.00s\n",
    "    ra = ra_list[0]+'h'+ra_list[1]+'m'+ra_list[2]+'s'\n",
    "    super_table['RA'][idx] = ra\n",
    "\n",
    "## Trim Dec column into usable format\n",
    "for idx, val in enumerate(super_table['DEC']):\n",
    "    dec = super_table['DEC'][idx].split(',',1)[0]\n",
    "    dec_list = dec.split(':')\n",
    "    ## DEC to format +/-00d00m00.00s\n",
    "    dec = dec_list[0]+'d'+dec_list[1]+'m'+dec_list[2]+'s'\n",
    "    super_table['DEC'][idx] = dec"
   ]
  },
  {
   "cell_type": "code",
   "execution_count": 15,
   "metadata": {},
   "outputs": [],
   "source": [
    "## Use list of targets to create a list of FixedTargets compatible with astroplan\n",
    "supernovae = [FixedTarget(coord=SkyCoord(ra = RA, dec = DEC), name=Name)\n",
    "             for Name, RA, DEC in super_table]"
   ]
  },
  {
   "cell_type": "markdown",
   "metadata": {},
   "source": [
    "Observation site assigned: Subaru Observatory\n",
    "\n",
    "Observation date assigned: November 1-15, 2018"
   ]
  },
  {
   "cell_type": "code",
   "execution_count": 16,
   "metadata": {},
   "outputs": [],
   "source": [
    "## Initialize observation site\n",
    "observer = Observer.at_site(\"Subaru\", timezone=\"US/Hawaii\")\n",
    "## Initialize observation range of dates\n",
    "date_start = Time(\"2018-11-01\", format='iso')\n",
    "date_end = Time(\"2018-11-15\", format='iso')\n",
    "observe_start = observer.sun_set_time(date_start, which='nearest')\n",
    "observe_end = observer.sun_rise_time(date_end, which='next')\n",
    "observing_range = [observe_start, observe_end]\n",
    "\n",
    "time_grid = time_grid_from_range(observing_range)"
   ]
  },
  {
   "cell_type": "code",
   "execution_count": 19,
   "metadata": {},
   "outputs": [
    {
     "name": "stdout",
     "output_type": "stream",
     "text": [
      "87 out of the 99 objects are above the horizon at some point during 01-11-18 to 15-11-18\n"
     ]
    },
    {
     "data": {
      "text/plain": [
       "[<FixedTarget \"SN2011fe\" at SkyCoord (ICRS): (ra, dec) in deg ( 210.77379583,  54.27367222)>,\n",
       " <FixedTarget \"SN2003dh\" at SkyCoord (ICRS): (ra, dec) in deg ( 161.20845833,  21.52170833)>,\n",
       " <FixedTarget \"SN1993J\" at SkyCoord (ICRS): (ra, dec) in deg ( 148.85322792,  69.02047278)>,\n",
       " <FixedTarget \"SN2002ap\" at SkyCoord (ICRS): (ra, dec) in deg ( 24.099375,  15.75366667)>,\n",
       " <FixedTarget \"CSS141118:092034+504148\" at SkyCoord (ICRS): (ra, dec) in deg ( 140.14275,  50.69677778)>,\n",
       " <FixedTarget \"SN2009ip\" at SkyCoord (ICRS): (ra, dec) in deg ( 335.78458333, -28.94777778)>,\n",
       " <FixedTarget \"SN2011dh\" at SkyCoord (ICRS): (ra, dec) in deg ( 202.52127292,  47.16970056)>,\n",
       " <FixedTarget \"SN2012dn\" at SkyCoord (ICRS): (ra, dec) in deg ( 305.90108333, -28.27872222)>,\n",
       " <FixedTarget \"SN2013ej\" at SkyCoord (ICRS): (ra, dec) in deg ( 24.20066667,  15.75861111)>,\n",
       " <FixedTarget \"SN2012aw\" at SkyCoord (ICRS): (ra, dec) in deg ( 160.97389583,  11.67156389)>,\n",
       " <FixedTarget \"SN1999ee\" at SkyCoord (ICRS): (ra, dec) in deg ( 334.03916667, -36.84208333)>,\n",
       " <FixedTarget \"SN2013dy\" at SkyCoord (ICRS): (ra, dec) in deg ( 334.57333333,  40.56933333)>,\n",
       " <FixedTarget \"SN2000cx\" at SkyCoord (ICRS): (ra, dec) in deg ( 21.19245833,  9.50869444)>,\n",
       " <FixedTarget \"SN1999em\" at SkyCoord (ICRS): (ra, dec) in deg ( 70.36266667, -2.86255556)>,\n",
       " <FixedTarget \"SN2005cf\" at SkyCoord (ICRS): (ra, dec) in deg ( 230.388, -7.44919444)>,\n",
       " <FixedTarget \"SN1998bu\" at SkyCoord (ICRS): (ra, dec) in deg ( 161.69170833,  11.83541667)>,\n",
       " <FixedTarget \"SN2007af\" at SkyCoord (ICRS): (ra, dec) in deg ( 215.587625, -0.39377778)>,\n",
       " <FixedTarget \"SN2010jl\" at SkyCoord (ICRS): (ra, dec) in deg ( 145.72220833,  9.49494444)>,\n",
       " <FixedTarget \"SN2014J\" at SkyCoord (ICRS): (ra, dec) in deg ( 148.9255,  69.67386111)>,\n",
       " <FixedTarget \"SN2015bn\" at SkyCoord (ICRS): (ra, dec) in deg ( 173.42320833,  0.72561111)>,\n",
       " <FixedTarget \"PTF12hsx\" at SkyCoord (ICRS): (ra, dec) in deg ( 13.763875,  42.33111111)>,\n",
       " <FixedTarget \"Gaia16apu\" at SkyCoord (ICRS): (ra, dec) in deg ( 255.99125,  76.76952778)>,\n",
       " <FixedTarget \"SN2009dc\" at SkyCoord (ICRS): (ra, dec) in deg ( 237.8005,  25.70777778)>,\n",
       " <FixedTarget \"Gaia16ael\" at SkyCoord (ICRS): (ra, dec) in deg ( 249.72375,  58.59080556)>,\n",
       " <FixedTarget \"SN2005bf\" at SkyCoord (ICRS): (ra, dec) in deg ( 155.98745833, -3.19147222)>,\n",
       " <FixedTarget \"SN2016bln\" at SkyCoord (ICRS): (ra, dec) in deg ( 203.68954167,  13.85397222)>,\n",
       " <FixedTarget \"SN2004eo\" at SkyCoord (ICRS): (ra, dec) in deg ( 308.22579167,  9.92852778)>,\n",
       " <FixedTarget \"SN2002bo\" at SkyCoord (ICRS): (ra, dec) in deg ( 154.527125,  21.82825)>,\n",
       " <FixedTarget \"SN2007gr\" at SkyCoord (ICRS): (ra, dec) in deg ( 40.86658333,  37.34575)>,\n",
       " <FixedTarget \"SN2016bkv\" at SkyCoord (ICRS): (ra, dec) in deg ( 154.58045833,  41.42758333)>,\n",
       " <FixedTarget \"SN2004et\" at SkyCoord (ICRS): (ra, dec) in deg ( 308.85554167,  60.12158333)>,\n",
       " <FixedTarget \"SN1991T\" at SkyCoord (ICRS): (ra, dec) in deg ( 188.5425,  2.66566667)>,\n",
       " <FixedTarget \"SN2014cx\" at SkyCoord (ICRS): (ra, dec) in deg ( 14.94929167, -7.57183333)>,\n",
       " <FixedTarget \"SN2016dxj\" at SkyCoord (ICRS): (ra, dec) in deg ( 250.0675,  22.78286111)>,\n",
       " <FixedTarget \"SN2006jc\" at SkyCoord (ICRS): (ra, dec) in deg ( 139.33658333,  41.90908333)>,\n",
       " <FixedTarget \"SN2006X\" at SkyCoord (ICRS): (ra, dec) in deg ( 185.72470833,  15.80888889)>,\n",
       " <FixedTarget \"iPTF13bvn\" at SkyCoord (ICRS): (ra, dec) in deg ( 225.00063333,  1.88143611)>,\n",
       " <FixedTarget \"SN2013ab\" at SkyCoord (ICRS): (ra, dec) in deg ( 218.185375,  9.88675)>,\n",
       " <FixedTarget \"SN2008ax\" at SkyCoord (ICRS): (ra, dec) in deg ( 187.67,  41.63780556)>,\n",
       " <FixedTarget \"SN2005cs\" at SkyCoord (ICRS): (ra, dec) in deg ( 202.472375,  47.1745)>,\n",
       " <FixedTarget \"SN2013fs\" at SkyCoord (ICRS): (ra, dec) in deg ( 349.93625,  10.18472222)>,\n",
       " <FixedTarget \"SN2008hv\" at SkyCoord (ICRS): (ra, dec) in deg ( 136.89191667,  3.39225)>,\n",
       " <FixedTarget \"SN1999ex\" at SkyCoord (ICRS): (ra, dec) in deg ( 334.03029167, -36.84825)>,\n",
       " <FixedTarget \"SN2003du\" at SkyCoord (ICRS): (ra, dec) in deg ( 218.64916667,  59.33438889)>,\n",
       " <FixedTarget \"ASASSN-14lp\" at SkyCoord (ICRS): (ra, dec) in deg ( 191.28791667, -0.459)>,\n",
       " <FixedTarget \"SN1994D\" at SkyCoord (ICRS): (ra, dec) in deg ( 188.50997917,  7.70158333)>,\n",
       " <FixedTarget \"LSQ12gdj\" at SkyCoord (ICRS): (ra, dec) in deg ( 358.6805, -25.67611111)>,\n",
       " <FixedTarget \"SN1999by\" at SkyCoord (ICRS): (ra, dec) in deg ( 140.46695833,  51.00183333)>,\n",
       " <FixedTarget \"SN2017eaw\" at SkyCoord (ICRS): (ra, dec) in deg ( 308.68433333,  60.19330556)>,\n",
       " <FixedTarget \"SN2005el\" at SkyCoord (ICRS): (ra, dec) in deg ( 77.95316667,  5.19416667)>,\n",
       " <FixedTarget \"SN2006jd\" at SkyCoord (ICRS): (ra, dec) in deg ( 120.53095833,  0.80875)>,\n",
       " <FixedTarget \"iPTF13ebh\" at SkyCoord (ICRS): (ra, dec) in deg ( 35.49991667,  33.27047222)>,\n",
       " <FixedTarget \"SN1998bw\" at SkyCoord (ICRS): (ra, dec) in deg ( 293.76320833, -52.84613889)>,\n",
       " <FixedTarget \"SN2001V\" at SkyCoord (ICRS): (ra, dec) in deg ( 179.353875,  25.2025)>,\n",
       " <FixedTarget \"SN2004dj\" at SkyCoord (ICRS): (ra, dec) in deg ( 114.32091667,  65.59938889)>,\n",
       " <FixedTarget \"SN2016dxv\" at SkyCoord (ICRS): (ra, dec) in deg ( 273.1225,  31.27980556)>,\n",
       " <FixedTarget \"PTF12dam\" at SkyCoord (ICRS): (ra, dec) in deg ( 216.1925,  46.23008333)>,\n",
       " <FixedTarget \"SN2003cg\" at SkyCoord (ICRS): (ra, dec) in deg ( 153.56654167,  3.46736111)>,\n",
       " <FixedTarget \"SN2017ckc\" at SkyCoord (ICRS): (ra, dec) in deg ( 217.15070833,  16.68456111)>,\n",
       " <FixedTarget \"SN2013gh\" at SkyCoord (ICRS): (ra, dec) in deg ( 330.591, -18.91677778)>,\n",
       " <FixedTarget \"SN2007le\" at SkyCoord (ICRS): (ra, dec) in deg ( 354.701875, -6.52269444)>,\n",
       " <FixedTarget \"SN2005hc\" at SkyCoord (ICRS): (ra, dec) in deg ( 29.1999, -0.21350556)>,\n",
       " <FixedTarget \"SN1998S\" at SkyCoord (ICRS): (ra, dec) in deg ( 176.52554167,  47.48205556)>,\n",
       " <FixedTarget \"iPTF13z\" at SkyCoord (ICRS): (ra, dec) in deg ( 240.5005,  21.24483333)>,\n",
       " <FixedTarget \"SN2016coi\" at SkyCoord (ICRS): (ra, dec) in deg ( 329.76725,  18.18625)>,\n",
       " <FixedTarget \"SN1972E\" at SkyCoord (ICRS): (ra, dec) in deg ( 204.96958333, -31.66916667)>,\n",
       " <FixedTarget \"SN2006D\" at SkyCoord (ICRS): (ra, dec) in deg ( 193.141125, -9.77519444)>,\n",
       " <FixedTarget \"SN2005am\" at SkyCoord (ICRS): (ra, dec) in deg ( 139.05195833, -16.30444444)>,\n",
       " <FixedTarget \"SN2017hnp\" at SkyCoord (ICRS): (ra, dec) in deg ( 357.10695833, -1.72679722)>,\n",
       " <FixedTarget \"SN2005M\" at SkyCoord (ICRS): (ra, dec) in deg ( 144.3865,  23.20277778)>,\n",
       " <FixedTarget \"SN2015L\" at SkyCoord (ICRS): (ra, dec) in deg ( 330.564375, -61.65961111)>,\n",
       " <FixedTarget \"SN2013df\" at SkyCoord (ICRS): (ra, dec) in deg ( 186.62220833,  31.22730556)>,\n",
       " <FixedTarget \"PS15ahs\" at SkyCoord (ICRS): (ra, dec) in deg ( 269.87404167,  43.39005556)>,\n",
       " <FixedTarget \"ASASSN-14dq\" at SkyCoord (ICRS): (ra, dec) in deg ( 329.499875,  24.26891667)>,\n",
       " <FixedTarget \"SN2006T\" at SkyCoord (ICRS): (ra, dec) in deg ( 148.625875, -25.70813889)>,\n",
       " <FixedTarget \"PTF11iqb\" at SkyCoord (ICRS): (ra, dec) in deg ( 8.52016667, -9.70497222)>,\n",
       " <FixedTarget \"SN2008D\" at SkyCoord (ICRS): (ra, dec) in deg ( 137.37760417,  33.13893333)>,\n",
       " <FixedTarget \"Gaia16aka\" at SkyCoord (ICRS): (ra, dec) in deg ( 222.03416667,  37.23297222)>,\n",
       " <FixedTarget \"Gaia17bxh\" at SkyCoord (ICRS): (ra, dec) in deg ( 73.971875,  46.40091944)>,\n",
       " <FixedTarget \"SN2007S\" at SkyCoord (ICRS): (ra, dec) in deg ( 150.13025,  4.40727778)>,\n",
       " <FixedTarget \"SN2007C\" at SkyCoord (ICRS): (ra, dec) in deg ( 197.20541667, -6.78361111)>,\n",
       " <FixedTarget \"AT2017kad\" at SkyCoord (ICRS): (ra, dec) in deg ( 210.07566667,  5.99611111)>,\n",
       " <FixedTarget \"SN2004dt\" at SkyCoord (ICRS): (ra, dec) in deg ( 30.551425, -0.10058333)>,\n",
       " <FixedTarget \"iPTF13dge\" at SkyCoord (ICRS): (ra, dec) in deg ( 75.89616667,  1.5715)>,\n",
       " <FixedTarget \"SN2007uy\" at SkyCoord (ICRS): (ra, dec) in deg ( 137.3975,  33.11941667)>,\n",
       " <FixedTarget \"SN1937C\" at SkyCoord (ICRS): (ra, dec) in deg ( 196.47166667,  37.60194444)>,\n",
       " <FixedTarget \"SN2009N\" at SkyCoord (ICRS): (ra, dec) in deg ( 187.78941667, -8.04897222)>]"
      ]
     },
     "execution_count": 19,
     "metadata": {},
     "output_type": "execute_result"
    }
   ],
   "source": [
    "## Counts the total number of objects up from site during observing range\n",
    "n = 0\n",
    "observables = []\n",
    "for target in supernovae:\n",
    "    if observer.target_is_up(observing_range, target).any():\n",
    "        observables.append(target)\n",
    "        n+=1\n",
    "print(str(n) + ' out of the ' + str(len(supernovae)) \n",
    "      + ' objects are above the horizon at some point during 01-11-18 to 15-11-18')\n",
    "observables"
   ]
  },
  {
   "cell_type": "code",
   "execution_count": 20,
   "metadata": {},
   "outputs": [
    {
     "data": {
      "text/html": [
       "&lt;Table length=99&gt;\n",
       "<table id=\"table4869334744\" class=\"table-striped table-bordered table-condensed\">\n",
       "<thead><tr><th>target name</th><th>ever observable</th><th>always observable</th><th>fraction of time observable</th></tr></thead>\n",
       "<thead><tr><th>str23</th><th>bool</th><th>bool</th><th>float64</th></tr></thead>\n",
       "<tr><td>SN1987A</td><td>False</td><td>False</td><td>0.0</td></tr>\n",
       "<tr><td>SN2011fe</td><td>False</td><td>False</td><td>0.0</td></tr>\n",
       "<tr><td>SN2003dh</td><td>True</td><td>False</td><td>0.0859598853868</td></tr>\n",
       "<tr><td>SN1993J</td><td>True</td><td>False</td><td>0.136103151862</td></tr>\n",
       "<tr><td>SN2002ap</td><td>True</td><td>False</td><td>0.361031518625</td></tr>\n",
       "<tr><td>CSS141118:092034+504148</td><td>True</td><td>False</td><td>0.164756446991</td></tr>\n",
       "<tr><td>SN2009ip</td><td>True</td><td>False</td><td>0.159025787966</td></tr>\n",
       "<tr><td>SN2011dh</td><td>True</td><td>False</td><td>0.0114613180516</td></tr>\n",
       "<tr><td>SN2012dn</td><td>True</td><td>False</td><td>0.0744985673352</td></tr>\n",
       "<tr><td>SN2013ej</td><td>True</td><td>False</td><td>0.361031518625</td></tr>\n",
       "<tr><td>...</td><td>...</td><td>...</td><td>...</td></tr>\n",
       "<tr><td>Gaia17bxh</td><td>True</td><td>False</td><td>0.375358166189</td></tr>\n",
       "<tr><td>SN2007S</td><td>True</td><td>False</td><td>0.106017191977</td></tr>\n",
       "<tr><td>SN2007C</td><td>False</td><td>False</td><td>0.0</td></tr>\n",
       "<tr><td>AT2017kad</td><td>False</td><td>False</td><td>0.0</td></tr>\n",
       "<tr><td>SN2004dt</td><td>True</td><td>False</td><td>0.330945558739</td></tr>\n",
       "<tr><td>iPTF13dge</td><td>True</td><td>False</td><td>0.333810888252</td></tr>\n",
       "<tr><td>SN2007uy</td><td>True</td><td>False</td><td>0.160458452722</td></tr>\n",
       "<tr><td>SN1937C</td><td>True</td><td>False</td><td>0.0229226361032</td></tr>\n",
       "<tr><td>SN2006aj</td><td>True</td><td>False</td><td>0.362464183381</td></tr>\n",
       "<tr><td>SN2009N</td><td>True</td><td>False</td><td>0.0143266475645</td></tr>\n",
       "</table>"
      ],
      "text/plain": [
       "<Table length=99>\n",
       "      target name       ever observable ... fraction of time observable\n",
       "         str23                bool      ...           float64          \n",
       "----------------------- --------------- ... ---------------------------\n",
       "                SN1987A           False ...                         0.0\n",
       "               SN2011fe           False ...                         0.0\n",
       "               SN2003dh            True ...             0.0859598853868\n",
       "                SN1993J            True ...              0.136103151862\n",
       "               SN2002ap            True ...              0.361031518625\n",
       "CSS141118:092034+504148            True ...              0.164756446991\n",
       "               SN2009ip            True ...              0.159025787966\n",
       "               SN2011dh            True ...             0.0114613180516\n",
       "               SN2012dn            True ...             0.0744985673352\n",
       "               SN2013ej            True ...              0.361031518625\n",
       "                    ...             ... ...                         ...\n",
       "              Gaia17bxh            True ...              0.375358166189\n",
       "                SN2007S            True ...              0.106017191977\n",
       "                SN2007C           False ...                         0.0\n",
       "              AT2017kad           False ...                         0.0\n",
       "               SN2004dt            True ...              0.330945558739\n",
       "              iPTF13dge            True ...              0.333810888252\n",
       "               SN2007uy            True ...              0.160458452722\n",
       "                SN1937C            True ...             0.0229226361032\n",
       "               SN2006aj            True ...              0.362464183381\n",
       "                SN2009N            True ...             0.0143266475645"
      ]
     },
     "execution_count": 20,
     "metadata": {},
     "output_type": "execute_result"
    }
   ],
   "source": [
    "## Set constraints to limit moon interference and account for airmass\n",
    "constraints = [MoonSeparationConstraint(45*u.deg), AtNightConstraint(),\n",
    "              AirmassConstraint(2)]\n",
    "observing_table = observability_table(constraints, observer, supernovae, time_range=observing_range)"
   ]
  },
  {
   "cell_type": "code",
   "execution_count": 24,
   "metadata": {},
   "outputs": [],
   "source": [
    "## Saves a csv file of observable supernovae in first half of Nov\n",
    "observe_mask = np.where(observing_table['ever observable'])\n",
    "super_final = super_table[observe_mask]\n",
    "super_final.write('observable_supernovae.csv', format='ascii.csv')"
   ]
  },
  {
   "cell_type": "code",
   "execution_count": null,
   "metadata": {},
   "outputs": [],
   "source": []
  }
 ],
 "metadata": {
  "kernelspec": {
   "display_name": "Python 3",
   "language": "python",
   "name": "python3"
  },
  "language_info": {
   "codemirror_mode": {
    "name": "ipython",
    "version": 3
   },
   "file_extension": ".py",
   "mimetype": "text/x-python",
   "name": "python",
   "nbconvert_exporter": "python",
   "pygments_lexer": "ipython3",
   "version": "3.6.3"
  }
 },
 "nbformat": 4,
 "nbformat_minor": 2
}
